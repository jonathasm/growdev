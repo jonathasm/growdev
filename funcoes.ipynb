{
 "nbformat": 4,
 "nbformat_minor": 0,
 "metadata": {
  "colab": {
   "provenance": []
  },
  "kernelspec": {
   "name": "python3",
   "display_name": "Python 3 (ipykernel)",
   "language": "python"
  },
  "language_info": {
   "name": "python"
  }
 },
 "cells": [
  {
   "cell_type": "markdown",
   "source": [
    "![Growdev](https://www.growdev.com.br/assets/images/logo_growdev.png)"
   ],
   "metadata": {
    "id": "v8pFWwviib2C"
   }
  },
  {
   "cell_type": "markdown",
   "source": [
    "![Formação Engenharia de Dados](https://d335luupugsy2.cloudfront.net/cms/files/524558/1707226566/$occu5m8t1op)"
   ],
   "metadata": {
    "id": "6Tkl4_HxifXZ"
   }
  },
  {
   "cell_type": "markdown",
   "source": [
    "Este material tem como objetivo incentivar a prática dos conteúdos estudados até o momento, e a pesquisa. Tenha em consideração que o exercício foi pensado para incentivar a prática dos conteúdos estudados até então, porém aprender a pesquisar faz parte do processo de aprendizagem.\n",
    "\n",
    "Fique tranquilo, faça os exercícios com calma, e boa prática!\n"
   ],
   "metadata": {
    "id": "ty7Bzyl1i9bN"
   }
  },
  {
   "cell_type": "markdown",
   "source": [
    "#Orientações:\n",
    "\n",
    " - Faça uma copia deste arquivo\n",
    " - Após concluir os exercicios, suba seu exercicio para o GitHub e compartilhe o link no **google** Classroom\n"
   ],
   "metadata": {
    "id": "DU5-yCQwjx3V"
   }
  },
  {
   "cell_type": "markdown",
   "source": [
    "#Exercícios"
   ],
   "metadata": {
    "id": "EzT810tnlmfE"
   }
  },
  {
   "cell_type": "markdown",
   "source": [
    "#Funções"
   ],
   "metadata": {
    "id": "rDqBAimhSq_C"
   }
  },
  {
   "cell_type": "markdown",
   "source": [
    "Escreva uma função chamada soma que recebe dois números como parâmetros e retorna a soma deles"
   ],
   "metadata": {
    "id": "AkBqdNST8bCY"
   }
  },
  {
   "cell_type": "code",
   "source": [
    "def soma(a, b):\n",
    "    return a + b"
   ],
   "metadata": {
    "id": "J427Pi2p8THC"
   },
   "outputs": [],
   "execution_count": null
  },
  {
   "cell_type": "markdown",
   "source": [
    "Escreva uma função chamada verificar_paridade que recebe um número como parâmetro e retorna True se for par e False se for ímpar."
   ],
   "metadata": {
    "id": "NAa3MBAM830W"
   }
  },
  {
   "cell_type": "code",
   "source": [
    "def verificar_paridade(numero):\n",
    "    if numero % 2 == 0:\n",
    "        return True\n",
    "    else:\n",
    "        return False"
   ],
   "metadata": {
    "id": "CRlV5NE82kpE"
   },
   "outputs": [],
   "execution_count": null
  },
  {
   "cell_type": "markdown",
   "source": [
    "Escreva uma função chamada verificar_palindromo que recebe uma string como parâmetro e retorna True se for um palíndromo (uma palavra que é igual se lida da esquerda para a direita e vice-versa) e False caso contrário."
   ],
   "metadata": {
    "id": "S7Rh1p4N8_dp"
   }
  },
  {
   "cell_type": "code",
   "source": [
    "def verificar_palindromo(palavra):\n",
    "    if palavra == palavra[::-1]:\n",
    "        return True\n",
    "    else:\n",
    "        return False"
   ],
   "metadata": {
    "id": "jY3rGEWc9Gb5"
   },
   "outputs": [],
   "execution_count": null
  },
  {
   "cell_type": "markdown",
   "source": [
    "##Desafio listas e funções:"
   ],
   "metadata": {
    "id": "suLU217H9G51"
   }
  },
  {
   "cell_type": "markdown",
   "source": [
    "Crie uma função que representa o jogo batalha naval.\n",
    "\n",
    "Dentro da função crie uma estrutura bidimensional utilizando listas com sublistas para representar um tabuleiro (1 lista com 20 elementos e cada elemento é uma lista de 20 elementos, tabuleiro 20x20). Cada posição irá armazenar 1 valor numérico que significa:\n",
    "- 0 - Água\n",
    "- 1 - Navio\n",
    "\n",
    "Para cada posição escolha esses valores aleatoriamente, respeitando a regra de que não podem existir mais de 20 navios no tabuleiro.\n",
    "\n",
    "Após os valores serem distribuídos, o programa deve pedir ao usuário uma posição do tabuleiro e informar se ele acertou um navio ou água e repetir o procedimento até que o usuário derrote todos os navios ou chegue ao limite de 35 tentativas.\n",
    "\n"
   ],
   "metadata": {
    "id": "zv3Edx_T-TF5"
   }
  },
  {
   "cell_type": "code",
   "source": [
    "def batalha_naval():\n",
    "    lista = [0] * 380 + [1] * 20\n",
    "    random.shuffle(lista)\n",
    "    tabuleiro = [lista[i:i + 20] for i in range(0, 400, 20)]\n",
    "\n",
    "    navios = 20\n",
    "    tentativas = 0\n",
    "\n",
    "    while navios > 0 and tentativas < 35:\n",
    "        linha = random.randint(0, 19)\n",
    "        coluna = random.randint(0, 19)\n",
    "        if tabuleiro[linha][coluna] == 1:\n",
    "            navios -= 1\n",
    "            print(\"Tentativa {} com {} navios - Você acertou um navio!\".format(tentativas, navios))\n",
    "        else:\n",
    "            print(\"Tentativa {} com {} navios - Você acertou água!\".format(tentativas, navios))\n",
    "        tentativas += 1\n",
    "\n",
    "    if navios == 0:\n",
    "        print(\"Parabéns! Você derrotou todos os navios!\")\n",
    "    else:\n",
    "        print(\"Você atingiu o limite de tentativas!\")\n",
    "\n",
    "\n",
    "batalha_naval()"
   ],
   "metadata": {
    "id": "BhHWwg54-H1j"
   },
   "outputs": [],
   "execution_count": null
  },
  {
   "cell_type": "markdown",
   "source": [
    "Modifique o programa anterior para exibir as seguintes estatísticas.\n",
    "- Acertos em água\n",
    "- Acertos em Navios\n",
    "- Porcentagem de acertos em água\n",
    "- Porcentagem de acertos em Navios\n",
    "- Acertos ininterruptos (maior quantidade de acertos em sequência)"
   ],
   "metadata": {
    "id": "WUXJN6Dg_GET"
   }
  },
  {
   "cell_type": "code",
   "source": [
    "import random\n",
    "\n",
    "\n",
    "def batalha_naval():\n",
    "    lista = [0] * 380 + [1] * 20\n",
    "    random.shuffle(lista)\n",
    "    tabuleiro = [lista[i:i + 20] for i in range(0, 400, 20)]\n",
    "\n",
    "    acertos_agua = 0\n",
    "    acertos_navios = 0\n",
    "    tentativas = 0\n",
    "    acertos_sequencia = 0\n",
    "    max_acertos_sequencia = 0\n",
    "\n",
    "    while acertos_navios < 20 and tentativas < 35:\n",
    "        linha = random.randint(0, 19)\n",
    "        coluna = random.randint(0, 19)\n",
    "\n",
    "        if tabuleiro[linha][coluna] == 1:\n",
    "            print(\"Você acertou um navio!\")\n",
    "            acertos_navios += 1\n",
    "            max_acertos_sequencia = max(max_acertos_sequencia, acertos_sequencia)\n",
    "            acertos_sequencia += 1\n",
    "        else:\n",
    "            print(\"Você acertou água!\")\n",
    "            acertos_agua += 1\n",
    "            acertos_sequencia = 0\n",
    "\n",
    "        tentativas += 1\n",
    "\n",
    "    porcentagem_acertos_agua = (acertos_agua / tentativas) * 100\n",
    "    porcentagem_acertos_navios = (acertos_navios / tentativas) * 100\n",
    "\n",
    "    print(\"Acertos em água:\", acertos_agua)\n",
    "    print(\"Acertos em navios:\", acertos_navios)\n",
    "    print(\"Porcentagem de acertos em água:\", round(porcentagem_acertos_agua, 2))\n",
    "    print(\"Porcentagem de acertos em navios:\", round(porcentagem_acertos_navios, 2))\n",
    "    print(\"Acertos ininterruptos:\", max_acertos_sequencia)\n",
    "\n",
    "\n",
    "batalha_naval()"
   ],
   "metadata": {
    "id": "N5itlDvd_Hbi"
   },
   "outputs": [],
   "execution_count": null
  },
  {
   "cell_type": "markdown",
   "source": [
    "#Manipulação de arquivos: Conteudo será trabalhado na aula do dia 08/05"
   ],
   "metadata": {
    "id": "ffEKF4Kx5eQu"
   }
  },
  {
   "cell_type": "markdown",
   "source": [
    "UUtilize o arquivo ‘compras.csv’ como base para resolver os seguintes exercícios.  disponivel em: https://drive.google.com/file/d/1cqqr7kWuBYYJxJ8W_-KHmcZHs6sfV_is/view"
   ],
   "metadata": {
    "id": "IrQvRhQM5oj6"
   }
  },
  {
   "cell_type": "markdown",
   "source": [
    "Utilize as seguintes faixas etárias nos exercícios em que for necessário.\n",
    "- Jovens, 18 a 25 anos\n",
    "- Adultos, 26 a 59 anos\n",
    "- Idosos, igual ou maior que 60 anos\n"
   ],
   "metadata": {
    "id": "J8g6sYrl3Xjg"
   }
  },
  {
   "cell_type": "markdown",
   "source": [
    "Procure quem foi a pessoa que mais gastou?"
   ],
   "metadata": {
    "id": "apGpARF-3nW9"
   }
  },
  {
   "cell_type": "code",
   "source": [
    "import pandas as pd\n",
    "\n",
    "df = pd.read_csv('compras.csv')\n",
    "\n",
    "df['compra'] = pd.to_numeric(df['compra'], errors='coerce')\n",
    "grouped = df.groupby(['nome', 'sobrenome'])['compra'].sum()\n",
    "\n",
    "max_compra = grouped.idxmax()\n",
    "max_valor = grouped.max()\n",
    "\n",
    "print(f'A pessoa com o maior valor de compras é {max_compra[0]} {max_compra[1]} com um total de {max_valor}.')"
   ],
   "metadata": {
    "id": "EPX_3cU33XOh"
   },
   "outputs": [],
   "execution_count": null
  },
  {
   "cell_type": "markdown",
   "source": [
    "Busque quais são os anos da base de dados?"
   ],
   "metadata": {
    "id": "3PBqAffp3o9I"
   }
  },
  {
   "cell_type": "code",
   "source": [
    "import pandas as pd\n",
    "\n",
    "df = pd.read_csv('compras.csv')\n",
    "\n",
    "anos_unicos = df['ano'].unique()\n",
    "\n",
    "print(anos_unicos)\n"
   ],
   "metadata": {
    "id": "lqgX2B6x5fLc"
   },
   "outputs": [],
   "execution_count": null
  },
  {
   "cell_type": "markdown",
   "source": [
    "Qual a porcentagem de homens e mulheres na base de dados?"
   ],
   "metadata": {
    "id": "R2DKj08Z5tqJ"
   }
  },
  {
   "cell_type": "code",
   "source": [
    "import pandas as pd\n",
    "\n",
    "df = pd.read_csv('compras.csv', header='infer')\n",
    "counts = df['sexo'].value_counts()\n",
    "percentage = (counts / df['sexo'].count()) * 100\n",
    "\n",
    "print(percentage)"
   ],
   "metadata": {
    "id": "3wZDjRn03xB0"
   },
   "outputs": [],
   "execution_count": null
  },
  {
   "cell_type": "markdown",
   "source": [
    "Qual foi o gasto por ano?"
   ],
   "metadata": {
    "id": "Nou_jojr3ztM"
   }
  },
  {
   "cell_type": "code",
   "source": [
    "import pandas as pd\n",
    "\n",
    "df = pd.read_csv('compras.csv')\n",
    "compras_por_ano = df.groupby('ano').size()\n",
    "\n",
    "print(compras_por_ano)"
   ],
   "metadata": {
    "id": "hjBuBCDb30YI"
   },
   "outputs": [],
   "execution_count": null
  },
  {
   "cell_type": "markdown",
   "source": [
    "Qual foi o ano com maior gasto?"
   ],
   "metadata": {
    "id": "vgN3teMQ32pg"
   }
  },
  {
   "cell_type": "code",
   "source": [
    "import pandas as pd\n",
    "\n",
    "df = pd.read_csv('compras.csv')\n",
    "compras_por_ano = df.groupby('ano').size()\n",
    "\n",
    "max_compras_por_ano = compras_por_ano.max()\n",
    "print(compras_por_ano[compras_por_ano == max_compras_por_ano])"
   ],
   "metadata": {
    "id": "JmN_ZHBV35ss"
   },
   "outputs": [],
   "execution_count": null
  },
  {
   "cell_type": "markdown",
   "source": [
    "Utilizando as faixas etárias, diga quantas pessoas há em cada faixa?"
   ],
   "metadata": {
    "id": "V_y9EX0p34-E"
   }
  },
  {
   "cell_type": "code",
   "source": [
    "import pandas as pd\n",
    "\n",
    "dados = pd.read_csv('compras.csv')\n",
    "\n",
    "\n",
    "def faixa_etaria(idade):\n",
    "    return next((faixa for limite, faixa in [(25, 'Jovens'), (59, 'Adultos')] if idade <= limite), 'Idosos')\n",
    "\n",
    "\n",
    "dados['Faixa Etária'] = dados['idade'].apply(faixa_etaria)\n",
    "\n",
    "contagem = dados['Faixa Etária'].value_counts()\n",
    "\n",
    "print(contagem)"
   ],
   "metadata": {
    "id": "ukkjPSE738r8"
   },
   "outputs": [],
   "execution_count": null
  },
  {
   "cell_type": "markdown",
   "source": [
    "Qual é a faixa etária que mais gasta?"
   ],
   "metadata": {
    "id": "_7qmp-1y36Ac"
   }
  },
  {
   "cell_type": "code",
   "source": [
    "import pandas as pd\n",
    "\n",
    "dados = pd.read_csv('compras.csv')\n",
    "\n",
    "\n",
    "def faixa_etaria(idade):\n",
    "    return next((faixa for limite, faixa in [(25, 'Jovens'), (59, 'Adultos')] if idade <= limite), 'Idosos')\n",
    "\n",
    "\n",
    "dados['Faixa Etária'] = dados['idade'].apply(faixa_etaria)\n",
    "total_compras = dados.groupby('Faixa Etária')['compra'].sum()\n",
    "faixa_maior_gasto = total_compras.idxmax()\n",
    "print(f\"A faixa etária que mais gasta é: {faixa_maior_gasto}\")"
   ],
   "metadata": {
    "id": "O0_Wt4I838V0"
   },
   "outputs": [],
   "execution_count": null
  },
  {
   "cell_type": "markdown",
   "source": [
    "A opção de débito é mais utilizada entre homens ou mulheres?"
   ],
   "metadata": {
    "id": "L_EUiizw3-jM"
   }
  },
  {
   "cell_type": "code",
   "source": [
    "import pandas as pd\n",
    "\n",
    "df = pd.read_csv('compras.csv')\n",
    "debito_df = df[df['pagamento'] == 'debito']\n",
    "homens = sum(debito_df['sexo'] == 'M')\n",
    "mulheres = sum(debito_df['sexo'] == 'F')\n",
    "print(f'Homens: {homens}, Mulheres: {mulheres}')\n",
    "print('Homens utilizando mais' if homens > mulheres else 'Mulheres utilizando mais')\n"
   ],
   "metadata": {
    "id": "dIKB7PXj3_DE"
   },
   "outputs": [],
   "execution_count": null
  },
  {
   "cell_type": "markdown",
   "source": [
    "Qual o sobrenome que mais aparece na base de dados?"
   ],
   "metadata": {
    "id": "jOMpl3Th4Bkm"
   }
  },
  {
   "cell_type": "code",
   "source": [
    "import pandas as pd\n",
    "\n",
    "df = pd.read_csv('compras.csv')\n",
    "sobrenome = df['sobrenome'].value_counts().idxmax()\n",
    "print(f'O sobrenome que mais aparece é: {sobrenome}')"
   ],
   "metadata": {
    "id": "LDFe_62s4B_Q"
   },
   "outputs": [],
   "execution_count": null
  },
  {
   "cell_type": "markdown",
   "source": [
    "Qual foi o ano em que os homens mais usaram o crédito?"
   ],
   "metadata": {
    "id": "Q7VS9K_Q4ECM"
   }
  },
  {
   "cell_type": "code",
   "source": [
    "import pandas as pd\n",
    "\n",
    "df = pd.read_csv('compras.csv')\n",
    "credito_df = df[(df['pagamento'] == 'credito') & (df['sexo'] == 'M')]\n",
    "compras_por_ano = credito_df['ano'].value_counts()\n",
    "ano_mais_usado = compras_por_ano.idxmax()\n",
    "print(f'O ano em que os homens mais usaram o crédito foi: {ano_mais_usado}')"
   ],
   "metadata": {
    "id": "5H60b3n64Ee0"
   },
   "outputs": [],
   "execution_count": null
  },
  {
   "cell_type": "markdown",
   "source": [
    "Qual opção de pagamento é mais utilizada em cada faixa etária?"
   ],
   "metadata": {
    "id": "ebnmp5KD4GPw"
   }
  },
  {
   "cell_type": "code",
   "source": [
    "import pandas as pd\n",
    "\n",
    "df = pd.read_csv('compras.csv')\n",
    "\n",
    "\n",
    "def faixa_etaria(idade):\n",
    "    return next((faixa for limite, faixa in [(25, 'Jovens'), (59, 'Adultos')] if idade <= limite), 'Idosos')\n",
    "\n",
    "\n",
    "df['Faixa Etaria'] = df['idade'].apply(faixa_etaria)\n",
    "modalidade = df.groupby(['Faixa Etaria', 'pagamento']).size().unstack().idxmax(axis=1)\n",
    "\n",
    "print(modalidade)\n"
   ],
   "metadata": {
    "id": "NumXkC5p4H7s",
    "ExecuteTime": {
     "end_time": "2024-06-24T23:27:02.230442Z",
     "start_time": "2024-06-24T23:27:00.481362Z"
    }
   },
   "outputs": [
    {
     "name": "stdout",
     "output_type": "stream",
     "text": [
      "Faixa Etaria\n",
      "Adultos      debito\n",
      "Idosos       debito\n",
      "Jovens     dinheiro\n",
      "dtype: object\n"
     ]
    }
   ],
   "execution_count": 1
  },
  {
   "cell_type": "markdown",
   "source": [
    "Qual o valor gasto em compras por jovens do ano de 2010 até 2015?"
   ],
   "metadata": {
    "id": "jRKhI6Dv4IQJ"
   }
  },
  {
   "cell_type": "code",
   "source": [
    "import pandas as pd\n",
    "\n",
    "df = pd.read_csv('compras.csv')\n",
    "\n",
    "\n",
    "def faixa_etaria(idade):\n",
    "    return next((faixa for limite, faixa in [(25, 'Jovens'), (59, 'Adultos')] if idade <= limite), 'Idosos')\n",
    "\n",
    "\n",
    "df['Faixa Etaria'] = df['idade'].apply(faixa_etaria)\n",
    "\n",
    "total_compras = df.groupby(['Faixa Etaria', 'ano'])['compra'].sum()\n",
    "jovens = total_compras.loc['Jovens', 2010:2015].sum()\n",
    "print(f'O valor gasto em compras por jovens do ano de 2010 até 2015 foi: {jovens}')"
   ],
   "metadata": {
    "id": "6SXstcF54Itk"
   },
   "outputs": [],
   "execution_count": null
  }
 ]
}
