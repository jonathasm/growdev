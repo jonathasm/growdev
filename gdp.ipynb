{
 "cells": [
  {
   "cell_type": "markdown",
   "metadata": {
    "id": "Xv6wVQd0QPmC"
   },
   "source": [
    "# Exercícios Práticos"
   ]
  },
  {
   "cell_type": "markdown",
   "metadata": {
    "id": "6A59rDIBQPmC"
   },
   "source": [
    "Crie um dataframe único com a informação do GDP e quantidade de matrículas por nível de educação por ano.\n",
    "\n",
    "O aumento das matrículas na educação primária, secundária e terciária acompanhou o aumento do GDP per capita nos últimos 15 anos na India?"
   ]
  },
  {
   "metadata": {},
   "cell_type": "markdown",
   "source": "# Importação da biblioteca pandas e leitura do csv de Education"
  },
  {
   "cell_type": "code",
   "metadata": {
    "id": "4aIyaPKIQPmC"
   },
   "source": [
    "import pandas as pd\n",
    "\n",
    "educ = 'https://raw.githubusercontent.com/abnr/ml-data/main/SYB61_T07_Education.csv'\n",
    "df_educ = pd.read_csv(educ, header=1, sep='\\t', encoding='unicode_escape')"
   ],
   "outputs": [],
   "execution_count": null
  },
  {
   "metadata": {},
   "cell_type": "markdown",
   "source": "# Apresenta o DataFrame construido a partir do csv de Education"
  },
  {
   "metadata": {},
   "cell_type": "code",
   "source": "df_educ.info()",
   "outputs": [],
   "execution_count": null
  },
  {
   "metadata": {},
   "cell_type": "markdown",
   "source": "# Filtro no DataFrame Education, seleciona India e os matriculados."
  },
  {
   "metadata": {},
   "cell_type": "code",
   "source": [
    "df_educ.rename(columns={'Unnamed: 1': 'Country'}, inplace=True)\n",
    "df_educ = df_educ[df_educ['Country'] == 'India']\n",
    "series = ['Students enrolled in primary education (thousands)',\n",
    "          'Students enrolled in secondary education (thousands)',\n",
    "          'Students enrolled in tertiary education (thousands)']\n",
    "gdp = df_educ['Series'].isin(series)\n",
    "df_educ = df_educ[gdp]\n",
    "df_educ"
   ],
   "outputs": [],
   "execution_count": null
  },
  {
   "metadata": {},
   "cell_type": "markdown",
   "source": "# Tratamento do DataFrame Education, retirando a vírgula"
  },
  {
   "metadata": {},
   "cell_type": "code",
   "source": [
    "df_educ['Value'] = df_educ['Value'].astype(str).str.replace(',', '').astype(int)\n",
    "df_educ"
   ],
   "outputs": [],
   "execution_count": null
  },
  {
   "metadata": {},
   "cell_type": "markdown",
   "source": "# Tratamento do DataFrame Education, removendo colunas desnecessárias"
  },
  {
   "metadata": {},
   "cell_type": "code",
   "source": [
    "df_educ.drop(['Region/Country/Area', 'Country', 'Source', 'Footnotes', 'Series'], axis=1, inplace=True)\n",
    "df_educ"
   ],
   "outputs": [],
   "execution_count": null
  },
  {
   "metadata": {},
   "cell_type": "markdown",
   "source": "# Tratamento do DataFrame Education, agrupando por ano"
  },
  {
   "metadata": {},
   "cell_type": "code",
   "source": [
    "df_educ = df_educ.groupby(['Year']).sum().astype(int)\n",
    "df_educ"
   ],
   "outputs": [],
   "execution_count": null
  },
  {
   "metadata": {},
   "cell_type": "markdown",
   "source": "# Importação da biblioteca pandas e leitura do csv de India World Bank"
  },
  {
   "metadata": {},
   "cell_type": "code",
   "source": [
    "import pandas as pd\n",
    "\n",
    "gdp = 'https://raw.githubusercontent.com/abnr/ml-data/main/India_World_Bank_Info.csv'\n",
    "df_gdp = pd.read_csv(gdp, sep='\\t', on_bad_lines='error', skiprows=4)"
   ],
   "outputs": [],
   "execution_count": null
  },
  {
   "metadata": {},
   "cell_type": "markdown",
   "source": "# Apresenta o DataFrame construido a partir do csv de India World Bank"
  },
  {
   "metadata": {},
   "cell_type": "code",
   "source": "df_gdp.info()",
   "outputs": [],
   "execution_count": null
  },
  {
   "metadata": {},
   "cell_type": "code",
   "source": [
    "filtro = df_gdp['Indicator Name'].str.contains('GDP per capita \\\\(current US\\\\$\\\\)')\n",
    "df_gdp = df_gdp[filtro]\n",
    "df_gdp"
   ],
   "outputs": [],
   "execution_count": null
  },
  {
   "metadata": {},
   "cell_type": "code",
   "source": [
    "colunas = range(2003, 2018)\n",
    "df_gdp = pd.melt(df_gdp, id_vars=['Indicator Name'],\n",
    "                 value_vars=list(map(str, colunas)),\n",
    "                 var_name='Year', value_name='Value')\n",
    "df_gdp = df_gdp[['Year', 'Value']].groupby(['Year']).sum()\n",
    "df_gdp['Value'] = df_gdp['Value'].apply(lambda o: int(round(o)))\n",
    "df_gdp"
   ],
   "outputs": [],
   "execution_count": null
  },
  {
   "metadata": {},
   "cell_type": "code",
   "source": [
    "df_gdp.index = df_gdp.index.astype(int)\n",
    "df = df_gdp.merge(df_educ, on='Year', how='outer', suffixes=('_gdp', '_educ'))\n",
    "df"
   ],
   "outputs": [],
   "execution_count": null
  },
  {
   "metadata": {},
   "cell_type": "code",
   "source": [
    "df['Value_educ'] = df['Value_educ'].interpolate(method='krogh')\n",
    "df['Value_educ'] = df['Value_educ']/10\n",
    "df['Value_gdp'] = df['Value_gdp']*10\n",
    "df['Value_educ'] = df['Value_educ'].astype(int)\n",
    "df"
   ],
   "outputs": [],
   "execution_count": null
  },
  {
   "metadata": {},
   "cell_type": "code",
   "source": [
    "import matplotlib.pyplot as plt\n",
    "\n",
    "\n",
    "plt.figure(figsize=(15, 10))\n",
    "x = df.index\n",
    "y1 = df['Value_educ']\n",
    "y2 = df['Value_gdp']\n",
    "\n",
    "plt.plot(x, y1, label='Education')\n",
    "plt.plot(x, y2, label='GDP')\n",
    "for i, j in zip(x, y1):\n",
    "    plt.text(i, j, str(j), ha='center')\n",
    "for i, j in zip(x, y2):\n",
    "    plt.text(i, j, str(j), ha='center')\n",
    "plt.xticks(x)\n",
    "plt.ylim([5000, 37000])\n",
    "plt.grid()\n",
    "plt.xlabel('Year')\n",
    "plt.ylabel('Value')\n",
    "plt.title('GDP x Education')\n",
    "\n",
    "plt.legend()\n",
    "plt.show()\n",
    "df"
   ],
   "outputs": [],
   "execution_count": null
  }
 ],
 "metadata": {
  "language_info": {
   "name": "python"
  },
  "colab": {
   "provenance": []
  },
  "kernelspec": {
   "name": "python3",
   "display_name": "Python 3 (ipykernel)",
   "language": "python"
  }
 },
 "nbformat": 4,
 "nbformat_minor": 0
}
