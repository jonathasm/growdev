{
 "nbformat": 4,
 "nbformat_minor": 0,
 "metadata": {
  "colab": {
   "provenance": []
  },
  "kernelspec": {
   "name": "python3",
   "display_name": "Python 3 (ipykernel)",
   "language": "python"
  },
  "language_info": {
   "name": "python"
  }
 },
 "cells": [
  {
   "cell_type": "markdown",
   "source": [
    "![Growdev](https://www.growdev.com.br/assets/images/logo_growdev.png)"
   ],
   "metadata": {
    "id": "v8pFWwviib2C"
   }
  },
  {
   "cell_type": "markdown",
   "source": [
    "![Formação Engenharia de Dados](https://d335luupugsy2.cloudfront.net/cms/files/524558/1707226566/$occu5m8t1op)"
   ],
   "metadata": {
    "id": "6Tkl4_HxifXZ"
   }
  },
  {
   "cell_type": "markdown",
   "source": [
    "Este material tem como objetivo incentivar a prática dos conteúdos estudados até o momento, e a pesquisa. Tenha em consideração que o exercício foi pensado para incentivar a prática dos conteúdos estudados até então, porém aprender a pesquisar faz parte do processo de aprendizagem.\n",
    "\n",
    "Fique tranquilo, faça os exercícios com calma, e boa prática!\n"
   ],
   "metadata": {
    "id": "ty7Bzyl1i9bN"
   }
  },
  {
   "cell_type": "markdown",
   "source": [
    "#Orientações:\n",
    "\n",
    " - Faça uma copia deste arquivo\n",
    " - Após concluir os exercicios, suba seu exercicio para o GitHub e compartilhe o link no **google** Classroom\n"
   ],
   "metadata": {
    "id": "DU5-yCQwjx3V"
   }
  },
  {
   "cell_type": "markdown",
   "source": [
    "#Exercícios"
   ],
   "metadata": {
    "id": "EzT810tnlmfE"
   }
  },
  {
   "cell_type": "markdown",
   "source": [
    "#Listas"
   ],
   "metadata": {
    "id": "rDqBAimhSq_C"
   }
  },
  {
   "cell_type": "markdown",
   "source": [
    "Para esse exercicio você tera alguns desafios, separei eles em partes, vamos lá?\n",
    "\n",
    "1 - Crie uma lista com 100 números inteiros.\n",
    "- Pode ser uma sequência, ou caso queira se desafiar faça de números aleatorios.\n",
    "- Os dados não devem ser inseridos manualmente, utilize de um laço de repetição para adicionar os elementos a Lista.\n"
   ],
   "metadata": {
    "id": "GoGkz2n-SudC"
   }
  },
  {
   "cell_type": "code",
   "source": [
    "import random\n",
    "lista = [random.randint(1, 100) for _ in range(100)]\n",
    "print(lista)"
   ],
   "metadata": {
    "id": "lLYBJr0KSuJW"
   },
   "outputs": [],
   "execution_count": null
  },
  {
   "cell_type": "markdown",
   "source": [
    "2 - Calcule e exiba a soma de todos os números da lista."
   ],
   "metadata": {
    "id": "LQ0SVqxyVTD5"
   }
  },
  {
   "cell_type": "code",
   "source": [
    "soma = sum(lista)\n",
    "print(\"A soma de todos os números na lista é:\", soma)"
   ],
   "metadata": {
    "id": "6HP8yU1bVS0F"
   },
   "outputs": [],
   "execution_count": null
  },
  {
   "cell_type": "markdown",
   "source": [
    "3 - Exiba o maior e o menor número da lista."
   ],
   "metadata": {
    "id": "HYQGLklTTPMx"
   }
  },
  {
   "cell_type": "code",
   "source": [
    "maior = max(lista)\n",
    "menor = min(lista)\n",
    "\n",
    "print(\"O maior número na lista é:\", maior)\n",
    "print(\"O menor número na lista é:\", menor)"
   ],
   "metadata": {
    "id": "q_UZx7EETT6S"
   },
   "outputs": [],
   "execution_count": null
  },
  {
   "cell_type": "markdown",
   "source": [
    "4 - Pesquise se o número 77 esta presente na lista e exiba:\n",
    "- Quantas vezes esse número aparece na lista\n",
    "- Se aparece em qual ou quais posições(Indice)."
   ],
   "metadata": {
    "id": "1iU6ZtRhVN9i"
   }
  },
  {
   "cell_type": "code",
   "source": [
    "contador = 0\n",
    "posicoes = []\n",
    "\n",
    "for i, numero in enumerate(lista):\n",
    "    if numero == 77:\n",
    "        contador += 1\n",
    "        posicoes.append(i)\n",
    "\n",
    "print(\"O número 77 aparece\", contador, \"vezes na lista.\")\n",
    "if posicoes:\n",
    "    print(\"O número 77 aparece nas seguintes posições:\", posicoes)\n",
    "else:\n",
    "    print(\"O número 77 não aparece na lista.\")"
   ],
   "metadata": {
    "id": "OGVH4AoGWU2R"
   },
   "outputs": [],
   "execution_count": null
  },
  {
   "cell_type": "markdown",
   "source": [
    "5 - Ordene a lista de forma descendente e exiba."
   ],
   "metadata": {
    "id": "jrwycUMvWVSu"
   }
  },
  {
   "cell_type": "code",
   "source": [
    "lista_ordenada = sorted(lista, reverse=True)\n",
    "print(lista_ordenada)"
   ],
   "metadata": {
    "id": "RvRpLp87e5CB"
   },
   "outputs": [],
   "execution_count": null
  },
  {
   "cell_type": "markdown",
   "source": [
    "## Tuplas:"
   ],
   "metadata": {
    "id": "Be68CsC2OftE"
   }
  },
  {
   "cell_type": "markdown",
   "source": [
    "Crie uma tupla com os dias da semana e peça para o usuário digitar um número de 1 a 7. Exiba o dia correspondente."
   ],
   "metadata": {
    "id": "SQzRrAmq1SnR"
   }
  },
  {
   "cell_type": "code",
   "source": [
    "dias_da_semana = (\"Domingo\", \"Segunda-feira\", \"Terça-feira\", \"Quarta-feira\", \"Quinta-feira\", \"Sexta-feira\", \"Sábado\")\n",
    "\n",
    "numero = int(input(\"Digite um número de 1 a 7: \"))\n",
    "\n",
    "if 1 <= numero <= 7:\n",
    "    print(\"O dia correspondente ao número\", numero, \"é\", dias_da_semana[numero - 1])\n",
    "else:\n",
    "    print(\"Número inválido. Por favor, digite um número de 1 a 7.\")"
   ],
   "metadata": {
    "id": "7BqDEfeq1TZE"
   },
   "outputs": [],
   "execution_count": null
  },
  {
   "cell_type": "markdown",
   "source": [
    "Crie duas tuplas com números inteiros e crie uma terceira tupla com a concatenação das duas."
   ],
   "metadata": {
    "id": "J9LW9fru7hv6"
   }
  },
  {
   "cell_type": "code",
   "source": [
    "tupla1 = (1, 2, 3, 4, 5)\n",
    "tupla2 = (6, 7, 8, 9, 10)\n",
    "\n",
    "tupla3 = tupla1 + tupla2\n",
    "\n",
    "print(tupla3)"
   ],
   "metadata": {
    "id": "J2pBsS-f7idJ"
   },
   "outputs": [],
   "execution_count": null
  },
  {
   "cell_type": "markdown",
   "source": [
    " Crie uma tupla com alguns elementos e remova um elemento específico."
   ],
   "metadata": {
    "id": "ytDz_SXB7o-8"
   }
  },
  {
   "cell_type": "code",
   "source": [
    "tupla = (\"maçã\", \"banana\", \"cereja\", \"damasco\")\n",
    "\n",
    "lista = list(tupla)\n",
    "\n",
    "lista.remove(\"banana\")\n",
    "\n",
    "tupla = tuple(lista)\n",
    "\n",
    "print(tupla)"
   ],
   "metadata": {
    "id": "QvIAx6HP7pbh"
   },
   "outputs": [],
   "execution_count": null
  },
  {
   "cell_type": "markdown",
   "source": [
    "#Sets"
   ],
   "metadata": {
    "id": "v_JM0Has1pPL"
   }
  },
  {
   "cell_type": "markdown",
   "source": [
    "Crie dois sets com cores diferentes e exiba na tela a união dos dois sets."
   ],
   "metadata": {
    "id": "Urrv-Y291roJ"
   }
  },
  {
   "cell_type": "code",
   "source": [
    "set1 = {\"vermelho\", \"azul\", \"verde\"}\n",
    "set2 = {\"amarelo\", \"roxo\", \"vermelho\"}\n",
    "\n",
    "uniao = set1.union(set2)\n",
    "\n",
    "print(uniao)"
   ],
   "metadata": {
    "id": "FM4S-PEa1zSW"
   },
   "outputs": [],
   "execution_count": null
  },
  {
   "cell_type": "markdown",
   "source": [
    "Crie uma lista com alguns números repetidos. Converta essa lista em um set para remover as duplicatas e exiba o resultado."
   ],
   "metadata": {
    "id": "0q0tG4eG1zkL"
   }
  },
  {
   "cell_type": "code",
   "source": [
    "lista = [1, 2, 2, 3, 4, 4, 5, 5, 6, 7, 8, 8, 9, 10, 10]\n",
    "\n",
    "conjunto = set(lista)\n",
    "\n",
    "print(conjunto)"
   ],
   "metadata": {
    "id": "j4okoTWR2I_R"
   },
   "outputs": [],
   "execution_count": null
  },
  {
   "cell_type": "markdown",
   "source": [
    "#Dicionários:"
   ],
   "metadata": {
    "id": "4MCBgr-k1fvU"
   }
  },
  {
   "cell_type": "markdown",
   "source": [
    " Crie um dicionário com os nomes de algumas frutas e suas respectivas cores. Exiba na tela somente as frutas que são vermelhas."
   ],
   "metadata": {
    "id": "0A-DeyIMPh4g"
   }
  },
  {
   "cell_type": "code",
   "source": [
    "frutas = {\"maçã\": \"vermelha\", \"banana\": \"amarela\", \"cereja\": \"vermelha\", \"limão\": \"verde\", \"laranja\": \"laranja\"}\n",
    "\n",
    "for fruta, cor in frutas.items():\n",
    "    if cor == \"vermelha\":\n",
    "        print(fruta)"
   ],
   "metadata": {
    "id": "7jlD2DV4Pjom"
   },
   "outputs": [],
   "execution_count": null
  },
  {
   "cell_type": "markdown",
   "source": [
    "Crie um dicionário com o nome e a idade de três pessoas. Busque por  um nome e exiba a idade correspondente."
   ],
   "metadata": {
    "id": "q-XV14A-PmSa"
   }
  },
  {
   "cell_type": "code",
   "source": [
    "pessoas = {\"Alice\": 25, \"Bob\": 30, \"Charlie\": 35}\n",
    "\n",
    "nome = \"Bob\"\n",
    "\n",
    "if nome in pessoas:\n",
    "    print(\"A idade de\", nome, \"é\", pessoas[nome])\n",
    "else:\n",
    "    print(\"Nome não encontrado.\")"
   ],
   "metadata": {
    "id": "8rPH-lzG2gvh"
   },
   "outputs": [],
   "execution_count": null
  },
  {
   "cell_type": "markdown",
   "source": [
    "Crie um dicionário com os nomes e idades de algumas pessoas. Peça para o usuário digitar um nome e sua nova idade, e atualize o dicionário com essa informação."
   ],
   "metadata": {
    "id": "yEn6q_MP5SdW"
   }
  },
  {
   "cell_type": "code",
   "source": [
    "pessoas = {\"Alice\": 25, \"Bob\": 30, \"Charlie\": 35}\n",
    "\n",
    "nome = input(\"Digite um nome: \")\n",
    "\n",
    "idade = int(input(\"Digite a nova idade: \"))\n",
    "\n",
    "pessoas[nome] = idade\n",
    "\n",
    "print(pessoas)"
   ],
   "metadata": {
    "id": "H-RHnfMm5TcR"
   },
   "outputs": [],
   "execution_count": null
  },
  {
   "cell_type": "markdown",
   "source": [
    "Desafio Dicionários:\n",
    "\n",
    "Busque o código desenvolvido para o exercicio abaixo e altere o algoritmo para:\n",
    "\n",
    " - Salvar o resultado da eleição em um dícionário.\n",
    "\n",
    "\n",
    "Exemplo de saida do dicionario: {\"Candidato 1\": 2, \"Candidato 2\": 2, \"Voto Nulo\": 0, \"Voto Branco\": 1}\n",
    "\n",
    "\n",
    "Este exercicio foi realizado na lista da semana passada, exercicio de número 4:\n",
    "\n",
    "\"Em uma eleição presidencial existem dois candidatos. Os votos são informados através de códigos. Os dados utilizados para a contagem dos votos obedecem à seguinte codificação:\n",
    "\n",
    "1,2 = voto para os respectivos candidatos\n",
    "\n",
    "3 = voto nulo\n",
    "\n",
    "4 = voto em branco;\n",
    "\n",
    "Elabore um programa que leia o código de votação de 5 eleitores. Calcule e escreva: total de votos para cada candidato total de votos nulos total de votos em branco\""
   ],
   "metadata": {
    "id": "Jeelh1Xw2hab"
   }
  },
  {
   "cell_type": "code",
   "source": [
    "resultados = {\"Candidato 1\": 0, \"Candidato 2\": 0, \"Voto Nulo\": 0, \"Voto Branco\": 0}\n",
    "\n",
    "for i in range(5):\n",
    "    voto = int(input(\"Digite o código de votação (1, 2, 3, 4): \"))\n",
    "    \n",
    "    if voto == 1:\n",
    "        resultados[\"Candidato 1\"] += 1\n",
    "    elif voto == 2:\n",
    "        resultados[\"Candidato 2\"] += 1\n",
    "    elif voto == 3:\n",
    "        resultados[\"Voto Nulo\"] += 1\n",
    "    elif voto == 4:\n",
    "        resultados[\"Voto Branco\"] += 1\n",
    "    else:\n",
    "        print(\"Código de votação inválido.\")\n",
    "\n",
    "print(resultados)"
   ],
   "metadata": {
    "id": "CRlV5NE82kpE"
   },
   "outputs": [],
   "execution_count": null
  },
  {
   "metadata": {},
   "cell_type": "markdown",
   "source": "#Listas por Compreensão:"
  },
  {
   "cell_type": "markdown",
   "source": [
    "Crie uma lista com os números Impares de 1 a 20 utilizando listas por compreensão."
   ],
   "metadata": {
    "id": "IrQvRhQM5oj6"
   }
  },
  {
   "cell_type": "code",
   "source": [
    "numeros_impares = [i for i in range(1, 21) if i % 2 != 0]\n",
    "\n",
    "print(numeros_impares)"
   ],
   "metadata": {
    "id": "lqgX2B6x5fLc"
   },
   "outputs": [],
   "execution_count": null
  },
  {
   "cell_type": "markdown",
   "source": [
    "Crie uma lista com as letras da frase \"Sou estudante de dados\", utilizando listas por compreensão."
   ],
   "metadata": {
    "id": "R2DKj08Z5tqJ"
   }
  },
  {
   "metadata": {},
   "cell_type": "code",
   "source": [
    "letras = [letra for letra in \"Sou estudante de dados\"]\n",
    "\n",
    "print(letras)"
   ],
   "outputs": [],
   "execution_count": null
  }
 ]
}
