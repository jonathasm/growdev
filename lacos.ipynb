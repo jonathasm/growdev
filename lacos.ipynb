{
 "nbformat": 4,
 "nbformat_minor": 0,
 "metadata": {
  "colab": {
   "provenance": []
  },
  "kernelspec": {
   "name": "python3",
   "display_name": "Python 3 (ipykernel)",
   "language": "python"
  },
  "language_info": {
   "name": "python"
  }
 },
 "cells": [
  {
   "cell_type": "markdown",
   "source": [
    "![Growdev](https://www.growdev.com.br/assets/images/logo_growdev.png)"
   ],
   "metadata": {
    "id": "v8pFWwviib2C"
   }
  },
  {
   "cell_type": "markdown",
   "source": [
    "![Formação Engenharia de Dados](https://d335luupugsy2.cloudfront.net/cms/files/524558/1707226566/$occu5m8t1op)"
   ],
   "metadata": {
    "id": "6Tkl4_HxifXZ"
   }
  },
  {
   "cell_type": "markdown",
   "source": [
    "Este material tem como objetivo incentivar a prática dos conteúdos estudados até o momento, e a pesquisa. Tenha em consideração que o exercício foi pensado para incentivar a prática dos conteúdos estudados até então, porém aprender a pesquisar faz parte do processo de aprendizagem.\n",
    "\n",
    "Fique tranquilo, faça os exercícios com calma, e boa prática!\n"
   ],
   "metadata": {
    "id": "ty7Bzyl1i9bN"
   }
  },
  {
   "cell_type": "markdown",
   "source": [
    "#Orientações:\n",
    "\n",
    " - Faça uma copia deste arquivo\n",
    " - Após concluir os exercicios, suba seu exercicio para o GitHub e compartilhe o link no **google** Classroom\n"
   ],
   "metadata": {
    "id": "DU5-yCQwjx3V"
   }
  },
  {
   "cell_type": "markdown",
   "source": [
    "#Exercícios"
   ],
   "metadata": {
    "id": "EzT810tnlmfE"
   }
  },
  {
   "cell_type": "markdown",
   "source": [
    "\n",
    "1- Escrever um programa que lê 5 valores para a, um de cada vez, e conta quantos destes valores são negativos, escrevendo esta informação."
   ],
   "metadata": {
    "id": "p62-CTXgvn5E"
   }
  },
  {
   "cell_type": "code",
   "source": [
    "negat = 0\n",
    "\n",
    "for i in range(5):\n",
    "    a = float(input(\"Digite um valor: \"))\n",
    "    if a < 0:\n",
    "        negat += 1"
   ],
   "metadata": {
    "id": "gU8NkXNYvmZv"
   },
   "outputs": [],
   "execution_count": null
  },
  {
   "cell_type": "markdown",
   "source": [
    "2 - A prefeitura de uma cidade fez uma pesquisa entre seus habitantes, coletando dados sobre o salário e número de filhos. A prefeitura deseja saber:\n",
    "\n",
    "a) média do salário da população;\n",
    "\n",
    "b) média do número de filhos;\n",
    "\n",
    "c) maior salário;\n",
    "\n",
    "d) percentual de pessoas com salário até R$2000,00.\n",
    "\n",
    "Escreva um programa que receba as informações necessárias de 5 pessoas conforme a descrição e responda às questões a, b, c e d anteriores.\n"
   ],
   "metadata": {
    "id": "59g_B9yRvqYS"
   }
  },
  {
   "cell_type": "code",
   "source": [
    "soma_salarios = 0\n",
    "soma_filhos = 0\n",
    "maior_salario = 0\n",
    "pessoas_ate_2000 = 0\n",
    "\n",
    "for i in range(5):\n",
    "    salario = float(input(\"Digite o salário da pessoa {}: \".format(i + 1)))\n",
    "    filhos = int(input(\"Digite o número de filhos da pessoa {}: \".format(i + 1)))\n",
    "\n",
    "    soma_salarios += salario\n",
    "    soma_filhos += filhos\n",
    "\n",
    "    if salario > maior_salario:\n",
    "        maior_salario = salario\n",
    "\n",
    "    if salario <= 2000:\n",
    "        pessoas_ate_2000 += 1\n",
    "\n",
    "media_salario = soma_salarios / 5\n",
    "media_filhos = soma_filhos / 5\n",
    "percentual_ate_2000 = (pessoas_ate_2000 / 5) * 100\n",
    "print(\"Média do salário da população: R${:.2f}\".format(media_salario))\n",
    "print(\"Média do número de filhos: {:.2f}\".format(media_filhos))\n",
    "print(\"Maior salário: R${:.2f}\".format(maior_salario))\n",
    "print(\"Percentual de pessoas com salário até R$2000,00: {:.2f}%\".format(percentual_ate_2000))"
   ],
   "metadata": {
    "id": "hz6OkEJBv52O"
   },
   "outputs": [],
   "execution_count": null
  },
  {
   "cell_type": "markdown",
   "source": [
    "3 - Chico tem 1,50 metro e cresce 2 centímetros por ano, enquanto Zé tem 1,10 metro e cresce 3 centímetros por ano. Construa um programa que calcule e imprima quantos anos serão necessários para que Zé seja maior que Chico."
   ],
   "metadata": {
    "id": "V-7kNtvtwDN1"
   }
  },
  {
   "cell_type": "code",
   "source": [
    "altura_chico = 1.50\n",
    "altura_ze = 1.10\n",
    "crescimento_chico = 0.02\n",
    "crescimento_ze = 0.03\n",
    "anos = 0\n",
    "\n",
    "while altura_ze <= altura_chico:\n",
    "    altura_chico += crescimento_chico\n",
    "    altura_ze += crescimento_ze\n",
    "    anos += 1\n",
    "\n",
    "print(\"Serão necessários {} anos para que Zé seja maior que Chico.\".format(anos))"
   ],
   "metadata": {
    "id": "Xlx4kqLpwE4L"
   },
   "outputs": [],
   "execution_count": null
  },
  {
   "cell_type": "markdown",
   "source": [
    "4 - Em uma eleição presidencial existem quatro candidatos. Os votos são informados através de códigos. Os dados utilizados para a contagem dos votos obedecem à seguinte codificação:  \n",
    "\n",
    "1,2 = voto para os respectivos candidatos\n",
    "\n",
    "3 = voto nulo\n",
    "\n",
    "4 = voto em branco;\n",
    "\n",
    "Elabore um programa que leia o código de votação de 5 candidatos. Calcule e escreva:\n",
    "total de votos para cada candidato\n",
    "total de votos nulos\n",
    "total de votos em branco\n"
   ],
   "metadata": {
    "id": "BU7x-lumwGRO"
   }
  },
  {
   "cell_type": "code",
   "source": [
    "votos_candidato1 = 0\n",
    "votos_candidato2 = 0\n",
    "votos_nulos = 0\n",
    "votos_brancos = 0\n",
    "\n",
    "for i in range(5):\n",
    "    voto = int(input(\"Digite o código do voto (1, 2, 3, 4): \"))\n",
    "    if voto == 1:\n",
    "        votos_candidato1 += 1\n",
    "    elif voto == 2:\n",
    "        votos_candidato2 += 1\n",
    "    elif voto == 3:\n",
    "        votos_nulos += 1\n",
    "    elif voto == 4:\n",
    "        votos_brancos += 1\n",
    "    else:\n",
    "        print(\"Código de voto inválido.\")\n",
    "\n",
    "print(\"Total de votos para o candidato 1: {}\".format(votos_candidato1))\n",
    "print(\"Total de votos para o candidato 2: {}\".format(votos_candidato2))\n",
    "print(\"Total de votos nulos: {}\".format(votos_nulos))\n",
    "print(\"Total de votos em branco: {}\".format(votos_brancos))"
   ],
   "metadata": {
    "id": "tnOkAb44wQo5"
   },
   "outputs": [],
   "execution_count": null
  },
  {
   "cell_type": "markdown",
   "source": [
    "5 - Escreva um programa que receba o nome de 10 pessoas e para cada pessoa, o lugar para o qual ela já viajou. Sendo que existem 3 possibilidades:\n",
    "\n",
    "Rio de Janeiro\n",
    "\n",
    "Bahia\n",
    "\n",
    "Minas Gerais\n",
    "\n",
    "Após, informar qual foi o destino mais visitado e qual o menos visitado.\n"
   ],
   "metadata": {
    "id": "oNyazyHPwzlo"
   }
  },
  {
   "cell_type": "code",
   "source": [
    "viagens = {\"Rio de Janeiro\": 0, \"Bahia\": 0, \"Minas Gerais\": 0}\n",
    "for i in range(10):\n",
    "    nome = input(\"Digite o nome da pessoa {}: \".format(i + 1))\n",
    "    print(\"Escolha o lugar para o qual a pessoa viajou:\")\n",
    "    print(\"1. Rio de Janeiro\")\n",
    "    print(\"2. Bahia\")\n",
    "    print(\"3. Minas Gerais\")\n",
    "    lugar = int(input(\"Digite o número correspondente ao lugar: \"))\n",
    "\n",
    "    if lugar == 1:\n",
    "        viagens[\"Rio de Janeiro\"] += 1\n",
    "    elif lugar == 2:\n",
    "        viagens[\"Bahia\"] += 1\n",
    "    elif lugar == 3:\n",
    "        viagens[\"Minas Gerais\"] += 1\n",
    "    else:\n",
    "        print(\"Número inválido. Tente novamente.\")\n",
    "        continue\n",
    "\n",
    "lugar_mais_visitado = max(viagens, key=viagens.get)\n",
    "lugar_menos_visitado = min(viagens, key=viagens.get)\n",
    "\n",
    "print(\"O lugar mais visitado foi: {}.\".format(lugar_mais_visitado))\n",
    "print(\"O lugar menos visitado foi: {}.\".format(lugar_menos_visitado))"
   ],
   "metadata": {
    "id": "FzTr2EY1w2Ey"
   },
   "outputs": [],
   "execution_count": null
  },
  {
   "cell_type": "markdown",
   "source": [
    "6 -  A série de Fibonacci é formada pela sequência 1,1,2,3,5,8,13,21,34,55,... Faça um programa capaz de gerar a série até o n−ésimo termo."
   ],
   "metadata": {
    "id": "HVJPsqTcw95-"
   }
  },
  {
   "cell_type": "code",
   "source": [
    "n = int(input(\"Digite o número de termos que deseja na série de Fibonacci: \"))\n",
    "\n",
    "a, b = 0, 1\n",
    "\n",
    "for i in range(n):\n",
    "    print(a, end=' ')\n",
    "    a, b = b, a + b"
   ],
   "metadata": {
    "id": "ZwgmpSgGw-v3"
   },
   "outputs": [],
   "execution_count": null
  },
  {
   "cell_type": "markdown",
   "source": [
    "7 - Escreva um programa que conte em ordem reversa, de 25 a zero."
   ],
   "metadata": {
    "id": "DaF7vXEWxB6R"
   }
  },
  {
   "cell_type": "code",
   "source": [
    "for i in range(25, -1, -1):\n",
    "    print(i)"
   ],
   "metadata": {
    "id": "2AYe_lX2xCdj"
   },
   "outputs": [],
   "execution_count": null
  },
  {
   "cell_type": "markdown",
   "source": [
    "8 - Crie um programa para que retorne o somatório de todos os números entre 1 e um valor fornecido pelo usuário. Por exemplo, se o usuário fornecer o número 4, o computador deverá calcular o somatório 1+ 2 + 3 + 4 = 10."
   ],
   "metadata": {
    "id": "Oc2yjIGqxF3h"
   }
  },
  {
   "cell_type": "code",
   "source": [
    "num = int(input(\"Digite um número: \"))\n",
    "\n",
    "soma = 0\n",
    "\n",
    "for i in range(1, num + 1):\n",
    "    soma += i\n",
    "\n",
    "print(\"O somatório de todos os números entre 1 e {} é: {}\".format(num, soma))"
   ],
   "metadata": {
    "id": "m5gfIfomxGwe"
   },
   "outputs": [],
   "execution_count": null
  },
  {
   "cell_type": "markdown",
   "source": [
    "9 - Escreva um programa que leia a idade e salário de 10 pessoas. Informe em seguida:\n",
    "Qual é a média de idade entre as pessoas?\n",
    "Quantas pessoas há por faixa etária, considerando:\n",
    "jovens < 18\n",
    "18 <= adultos < 60\n",
    "idosos >= 60\n",
    "Em seguida, mostre qual é a faixa etária que acumula o maior salário.\n"
   ],
   "metadata": {
    "id": "5D368hETyJQh"
   }
  },
  {
   "cell_type": "code",
   "source": [
    "soma_idades = 0\n",
    "contagem_jovens = 0\n",
    "contagem_adultos = 0\n",
    "contagem_idosos = 0\n",
    "salario_jovens = 0\n",
    "salario_adultos = 0\n",
    "salario_idosos = 0\n",
    "\n",
    "for i in range(10):\n",
    "    idade = int(input(\"Digite a idade da pessoa {}: \".format(i + 1)))\n",
    "    salario = float(input(\"Digite o salário da pessoa {}: \".format(i + 1)))\n",
    "    soma_idades += idade\n",
    "    if idade < 18:\n",
    "        contagem_jovens += 1\n",
    "        salario_jovens += salario\n",
    "    elif idade < 60:\n",
    "        contagem_adultos += 1\n",
    "        salario_adultos += salario\n",
    "    else:\n",
    "        contagem_idosos += 1\n",
    "        salario_idosos += salario\n",
    "\n",
    "media_idade = soma_idades / 10\n",
    "\n",
    "if salario_jovens > salario_adultos and salario_jovens > salario_idosos:\n",
    "    faixa_maior_salario = \"jovens\"\n",
    "elif salario_adultos > salario_idosos:\n",
    "    faixa_maior_salario = \"adultos\"\n",
    "else:\n",
    "    faixa_maior_salario = \"idosos\"\n",
    "\n",
    "print(\"A média de idade entre as pessoas é: {} anos.\".format(media_idade))\n",
    "print(\"Há {} jovens, {} adultos e {} idosos.\".format(contagem_jovens, contagem_adultos, contagem_idosos))\n",
    "print(\"A faixa etária que acumula o maior salário é: {}.\".format(faixa_maior_salario))"
   ],
   "metadata": {
    "id": "zZsS7JHm0UY6"
   },
   "outputs": [],
   "execution_count": null
  },
  {
   "cell_type": "markdown",
   "source": [
    "10 - Crie uma calculadora simples que realiza operações de adição, subtração, multiplicação, divisão e exponenciação. O programa deve continuar pedindo operações até que o \n",
    "usuário escolha sair. Exemplo de saída:"
   ],
   "metadata": {
    "id": "L4xlYJzdhZyV"
   }
  },
  {
   "cell_type": "code",
   "source": [
    "while True:\n",
    "    print(\"\\n1. Adição\")\n",
    "    print(\"2. Subtração\")\n",
    "    print(\"3. Multiplicação\")\n",
    "    print(\"4. Divisão\")\n",
    "    print(\"5. Exponenciação\")\n",
    "    print(\"6. Sair\")\n",
    "    operacao = int(input(\"Escolha uma operação: \"))\n",
    "\n",
    "    if operacao == 6:\n",
    "        break\n",
    "\n",
    "    num1 = float(input(\"Digite o primeiro número: \"))\n",
    "    num2 = float(input(\"Digite o segundo número: \"))\n",
    "\n",
    "    if operacao == 1:\n",
    "        resultado = num1 + num2\n",
    "    elif operacao == 2:\n",
    "        resultado = num1 - num2\n",
    "    elif operacao == 3:\n",
    "        resultado = num1 * num2\n",
    "    elif operacao == 4:\n",
    "        if num2 != 0:\n",
    "            resultado = num1 / num2\n",
    "        else:\n",
    "            print(\"Erro: Divisão por zero não é permitida.\")\n",
    "            continue\n",
    "    elif operacao == 5:\n",
    "        resultado = num1 ** num2\n",
    "\n",
    "    print(\"Resultado: \", resultado)"
   ],
   "metadata": {
    "id": "t1GTUaOshazK"
   },
   "outputs": [],
   "execution_count": null
  },
  {
   "cell_type": "markdown",
   "source": [
    "11 - Crie um jogo em que o computador escolha um número aleatório entre 1 e 100, e o jogador tenta adivinhá-lo. O programa deve dar dicas se o número é maior ou menor do que o número digitado pelo jogador. O jogo continua até que o jogador acerte o número.\n",
    "Exemplo de saída:\n",
    "\n",
    "Bem-vindo ao jogo de adivinhação!\n",
    "\n",
    "Tente adivinhar o número entre 1 e 100.\n",
    "\n",
    "Digite sua tentativa: 50\n",
    "\n",
    "O número é menor.\n",
    "\n",
    "Digite sua tentativa: 75\n",
    "\n",
    "O número é maior.\n",
    "\n",
    "Digite sua tentativa: 63\n",
    "\n",
    "O número é menor.\n",
    "\n",
    "Digite sua tentativa: 68\n",
    "\n",
    "Parabéns! Você acertou o número 68 em 4 tentativas!"
   ],
   "metadata": {
    "id": "TvOVLvpYhohk"
   }
  },
  {
   "cell_type": "code",
   "source": [
    "import random\n",
    "\n",
    "numero_aleatorio = random.randint(1, 100)\n",
    "\n",
    "tentativas = 0\n",
    "\n",
    "print(\"Bem-vindo ao jogo de adivinhação!\")\n",
    "print(\"Tente adivinhar o número entre 1 e 100.\")\n",
    "\n",
    "while True:\n",
    "    tentativa = int(input(\"Digite sua tentativa: \"))\n",
    "    tentativas += 1\n",
    "\n",
    "    if tentativa == numero_aleatorio:\n",
    "        print(\"Parabéns! Você acertou o número {} em {} tentativas!\".format(numero_aleatorio, tentativas))\n",
    "        break\n",
    "    elif tentativa > numero_aleatorio:\n",
    "        print(\"O número é menor.\")\n",
    "    else:\n",
    "        print(\"O número é maior.\")"
   ],
   "metadata": {
    "id": "wD7WVTzdh3Tf"
   },
   "outputs": [],
   "execution_count": null
  },
  {
   "cell_type": "markdown",
   "source": [
    "12 - Escreva um programa que calcula o valor de um investimento após um número específico de anos, considerando juros compostos. O usuário deve fornecer o principal (valor inicial do investimento), a taxa de juros anual (em porcentagem) e o número de anos.\n",
    "\n",
    "A fórmula para calcular o valor de um investimento após n anos com juros compostos é:\n",
    "\n",
    "A=P×(1+r)^n\n",
    "\n",
    "\n",
    "Onde:\n",
    "\n",
    "\n",
    "A é o valor do investimento após n anos,\n",
    "\n",
    "P é o principal (valor inicial do investimento),\n",
    "\n",
    "r é a taxa de juros anual (em decimal), e\n",
    "\n",
    "n é o número de anos."
   ],
   "metadata": {
    "id": "528JJZodmafY"
   }
  },
  {
   "cell_type": "markdown",
   "source": [
    "\n",
    "Exemplo de saída:\n",
    "\n",
    "Digite o principal (R$): 1000\n",
    "\n",
    "Digite a taxa de juros anual (%): 5\n",
    "\n",
    "Digite o número de anos: 10\n",
    "\n",
    "O valor do investimento após 10 anos é: R$ 1628.89"
   ],
   "metadata": {
    "id": "-6opTpcXoxNw"
   }
  },
  {
   "cell_type": "code",
   "source": [
    "P = float(input(\"Digite o principal (R$): \"))\n",
    "r = float(input(\"Digite a taxa de juros anual (%): \")) / 100\n",
    "n = int(input(\"Digite o número de anos: \"))\n",
    "\n",
    "A = P * (1 + r) ** n\n",
    "\n",
    "print(\"O valor do investimento após {} anos é: R$ {:.2f}\".format(n, A))"
   ],
   "metadata": {
    "id": "3XHAThk1oFIT"
   },
   "outputs": [],
   "execution_count": null
  }
 ]
}
